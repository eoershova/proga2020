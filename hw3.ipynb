{
 "cells": [
  {
   "cell_type": "code",
   "execution_count": null,
   "metadata": {},
   "outputs": [],
   "source": [
    "собираю данные в датафреймы"
   ]
  },
  {
   "cell_type": "code",
   "execution_count": 1,
   "metadata": {},
   "outputs": [],
   "source": [
    "import os\n",
    "import pandas as pd"
   ]
  },
  {
   "cell_type": "code",
   "execution_count": 2,
   "metadata": {},
   "outputs": [],
   "source": [
    "def find_files(data_folder):\n",
    "    train_files_paths = []\n",
    "    test_files_paths = []\n",
    "    for root, dirs, files in os.walk(data_folder):\n",
    "        for name in files:\n",
    "            path = os.path.join(root, name)\n",
    "            if name.endswith('.txt'):\n",
    "                if 'test' in path:\n",
    "                    test_files_paths.append(path)\n",
    "                elif 'train' in path:\n",
    "                    train_files_paths.append(path)\n",
    "                else:\n",
    "                    continue\n",
    "    return train_files_paths, test_files_paths"
   ]
  },
  {
   "cell_type": "code",
   "execution_count": 3,
   "metadata": {
    "scrolled": false
   },
   "outputs": [],
   "source": [
    "train_files_paths, test_files_paths = find_files('aclImdb')"
   ]
  },
  {
   "cell_type": "code",
   "execution_count": null,
   "metadata": {},
   "outputs": [],
   "source": []
  },
  {
   "cell_type": "code",
   "execution_count": 4,
   "metadata": {},
   "outputs": [],
   "source": [
    "def construct_df(files_paths):\n",
    "    columns = ['text', 'target']\n",
    "    df_name = pd.DataFrame(columns = columns)\n",
    "    for file in files_paths:\n",
    "        with open(file, 'r', encoding='utf-8') as f:\n",
    "            text = f.read()\n",
    "        sentiment_label = None\n",
    "        if 'pos' in file:\n",
    "            sentiment_label = 'POS'\n",
    "        elif 'neg' in file:\n",
    "            sentiment_label = 'NEG'\n",
    "        if sentiment_label is not None:\n",
    "            df_single_file = pd.DataFrame({'text': [text], 'target': [sentiment_label]})\n",
    "            df_name = pd.concat([df_name, df_single_file], axis=0)\n",
    "    return df_name\n",
    "            "
   ]
  },
  {
   "cell_type": "code",
   "execution_count": 5,
   "metadata": {},
   "outputs": [
    {
     "name": "stdout",
     "output_type": "stream",
     "text": [
      "CPU times: user 2min 19s, sys: 13.6 s, total: 2min 33s\n",
      "Wall time: 3min 31s\n"
     ]
    }
   ],
   "source": [
    "%%time\n",
    "df_train = construct_df(train_files_paths)\n",
    "df_test = construct_df(test_files_paths)"
   ]
  },
  {
   "cell_type": "code",
   "execution_count": 6,
   "metadata": {},
   "outputs": [
    {
     "data": {
      "text/html": [
       "<div>\n",
       "<style scoped>\n",
       "    .dataframe tbody tr th:only-of-type {\n",
       "        vertical-align: middle;\n",
       "    }\n",
       "\n",
       "    .dataframe tbody tr th {\n",
       "        vertical-align: top;\n",
       "    }\n",
       "\n",
       "    .dataframe thead th {\n",
       "        text-align: right;\n",
       "    }\n",
       "</style>\n",
       "<table border=\"1\" class=\"dataframe\">\n",
       "  <thead>\n",
       "    <tr style=\"text-align: right;\">\n",
       "      <th></th>\n",
       "      <th>text</th>\n",
       "      <th>target</th>\n",
       "    </tr>\n",
       "  </thead>\n",
       "  <tbody>\n",
       "    <tr>\n",
       "      <th>0</th>\n",
       "      <td>Alan Rickman &amp; Emma Thompson give good perform...</td>\n",
       "      <td>NEG</td>\n",
       "    </tr>\n",
       "    <tr>\n",
       "      <th>0</th>\n",
       "      <td>I have seen this movie and I did not care for ...</td>\n",
       "      <td>NEG</td>\n",
       "    </tr>\n",
       "    <tr>\n",
       "      <th>0</th>\n",
       "      <td>In Los Angeles, the alcoholic and lazy Hank Ch...</td>\n",
       "      <td>NEG</td>\n",
       "    </tr>\n",
       "    <tr>\n",
       "      <th>0</th>\n",
       "      <td>This film is bundled along with \"Gli fumavano ...</td>\n",
       "      <td>NEG</td>\n",
       "    </tr>\n",
       "    <tr>\n",
       "      <th>0</th>\n",
       "      <td>I only comment on really very good films and o...</td>\n",
       "      <td>NEG</td>\n",
       "    </tr>\n",
       "    <tr>\n",
       "      <th>...</th>\n",
       "      <td>...</td>\n",
       "      <td>...</td>\n",
       "    </tr>\n",
       "    <tr>\n",
       "      <th>0</th>\n",
       "      <td>This movie is certainly well-constructed, begi...</td>\n",
       "      <td>POS</td>\n",
       "    </tr>\n",
       "    <tr>\n",
       "      <th>0</th>\n",
       "      <td>Nice to see a comedy for grown ups. Masterfull...</td>\n",
       "      <td>POS</td>\n",
       "    </tr>\n",
       "    <tr>\n",
       "      <th>0</th>\n",
       "      <td>Jean Renoir's homage to the Paris of the late ...</td>\n",
       "      <td>POS</td>\n",
       "    </tr>\n",
       "    <tr>\n",
       "      <th>0</th>\n",
       "      <td>What are the movies? I mean.. what are movies ...</td>\n",
       "      <td>POS</td>\n",
       "    </tr>\n",
       "    <tr>\n",
       "      <th>0</th>\n",
       "      <td>I saw this movie on TV and loved it! I am a re...</td>\n",
       "      <td>POS</td>\n",
       "    </tr>\n",
       "  </tbody>\n",
       "</table>\n",
       "<p>25000 rows × 2 columns</p>\n",
       "</div>"
      ],
      "text/plain": [
       "                                                 text target\n",
       "0   Alan Rickman & Emma Thompson give good perform...    NEG\n",
       "0   I have seen this movie and I did not care for ...    NEG\n",
       "0   In Los Angeles, the alcoholic and lazy Hank Ch...    NEG\n",
       "0   This film is bundled along with \"Gli fumavano ...    NEG\n",
       "0   I only comment on really very good films and o...    NEG\n",
       "..                                                ...    ...\n",
       "0   This movie is certainly well-constructed, begi...    POS\n",
       "0   Nice to see a comedy for grown ups. Masterfull...    POS\n",
       "0   Jean Renoir's homage to the Paris of the late ...    POS\n",
       "0   What are the movies? I mean.. what are movies ...    POS\n",
       "0   I saw this movie on TV and loved it! I am a re...    POS\n",
       "\n",
       "[25000 rows x 2 columns]"
      ]
     },
     "execution_count": 6,
     "metadata": {},
     "output_type": "execute_result"
    }
   ],
   "source": [
    "df_test"
   ]
  },
  {
   "cell_type": "code",
   "execution_count": null,
   "metadata": {},
   "outputs": [],
   "source": [
    "собираю пайплайн с логистической регрессией используя код из семинара третьей недели"
   ]
  },
  {
   "cell_type": "code",
   "execution_count": 7,
   "metadata": {},
   "outputs": [],
   "source": [
    "from sklearn.pipeline import Pipeline\n",
    "from sklearn.linear_model import LogisticRegression\n",
    "from sklearn.feature_extraction.text import CountVectorizer\n",
    "from sklearn.feature_extraction.text import TfidfTransformer"
   ]
  },
  {
   "cell_type": "code",
   "execution_count": 8,
   "metadata": {},
   "outputs": [],
   "source": [
    "text_clf = Pipeline([('vect', CountVectorizer(ngram_range = (2,3))), \n",
    "                     ('tfidf', TfidfTransformer()), \n",
    "                     ('clf', LogisticRegression())])"
   ]
  },
  {
   "cell_type": "code",
   "execution_count": 9,
   "metadata": {},
   "outputs": [
    {
     "name": "stdout",
     "output_type": "stream",
     "text": [
      "CPU times: user 2min, sys: 7.06 s, total: 2min 7s\n",
      "Wall time: 1min 43s\n"
     ]
    }
   ],
   "source": [
    "%%time\n",
    "text_clf.fit(df_train.text, df_train.target)  \n",
    "predicted = text_clf.predict(df_test.text)"
   ]
  },
  {
   "cell_type": "code",
   "execution_count": 10,
   "metadata": {},
   "outputs": [],
   "source": [
    "from sklearn.metrics import *"
   ]
  },
  {
   "cell_type": "code",
   "execution_count": 11,
   "metadata": {},
   "outputs": [
    {
     "name": "stdout",
     "output_type": "stream",
     "text": [
      "acc=0.8641\n",
      "micro F1=0.8641, micro P=0.8641, micro R=0.8641\n",
      "macro F1=0.8641, macro P=0.8642, macro R=0.8641\n",
      "\n"
     ]
    }
   ],
   "source": [
    "acc = accuracy_score(df_test.target, predicted)\n",
    "micro_f1 = f1_score(df_test.target, predicted, average = 'micro')\n",
    "micro_p = precision_score(df_test.target, predicted, average = 'micro')\n",
    "micro_r = recall_score(df_test.target, predicted, average = 'micro')\n",
    "macro_f1 = f1_score(df_test.target, predicted, average = 'macro')\n",
    "macro_p = precision_score(df_test.target, predicted, average = 'macro')\n",
    "macro_r = recall_score(df_test.target, predicted, average = 'macro')\n",
    "print('acc={0:1.4f}'.format(acc))\n",
    "print('micro F1={0:1.4f}, micro P={1:1.4f}, micro R={2:1.4f}'.format(micro_f1, micro_p, micro_r))\n",
    "print('macro F1={0:1.4f}, macro P={1:1.4f}, macro R={2:1.4f}\\n'.format(macro_f1, macro_p, macro_r))"
   ]
  },
  {
   "cell_type": "code",
   "execution_count": null,
   "metadata": {},
   "outputs": [],
   "source": [
    "почему аук на графике и отдельно посчитанный разные? "
   ]
  },
  {
   "cell_type": "code",
   "execution_count": 41,
   "metadata": {},
   "outputs": [
    {
     "data": {
      "image/png": "[encoded data removed]",
      "text/plain": [
       "<Figure size 432x288 with 1 Axes>"
      ]
     },
     "metadata": {},
     "output_type": "display_data"
    }
   ],
   "source": [
    "import matplotlib.pyplot as plt\n",
    "from sklearn import metrics\n",
    "\n",
    "metrics.plot_roc_curve(text_clf, df_test.text, df_test.target, name='Binary Sentiment with Logistic Regression') \n",
    "plt.show()   "
   ]
  },
  {
   "cell_type": "code",
   "execution_count": 13,
   "metadata": {},
   "outputs": [
    {
     "name": "stdout",
     "output_type": "stream",
     "text": [
      "ROC AUC 0.86408\n"
     ]
    }
   ],
   "source": [
    "from sklearn import preprocessing\n",
    "\n",
    "le = preprocessing.LabelEncoder()\n",
    "le.fit(['POS', 'NEG'])\n",
    "y_true = le.transform(df_test.target)\n",
    "y_predicted = le.transform(predicted)\n",
    "score = roc_auc_score(y_true, y_predicted)\n",
    "\n",
    "print(f'ROC AUC {score}')"
   ]
  },
  {
   "cell_type": "code",
   "execution_count": null,
   "metadata": {},
   "outputs": [],
   "source": [
    "оргазиую данные чтобы удобно найти самые негативные и позитивные отзывы"
   ]
  },
  {
   "cell_type": "code",
   "execution_count": 14,
   "metadata": {},
   "outputs": [],
   "source": [
    "probabilities = text_clf.predict_proba(df_test.text)"
   ]
  },
  {
   "cell_type": "code",
   "execution_count": 15,
   "metadata": {},
   "outputs": [],
   "source": [
    "df_proba = pd.DataFrame(data=probabilities, columns=[\"NEG probability\", \"POS probability\"])"
   ]
  },
  {
   "cell_type": "code",
   "execution_count": 16,
   "metadata": {},
   "outputs": [
    {
     "data": {
      "text/html": [
       "<div>\n",
       "<style scoped>\n",
       "    .dataframe tbody tr th:only-of-type {\n",
       "        vertical-align: middle;\n",
       "    }\n",
       "\n",
       "    .dataframe tbody tr th {\n",
       "        vertical-align: top;\n",
       "    }\n",
       "\n",
       "    .dataframe thead th {\n",
       "        text-align: right;\n",
       "    }\n",
       "</style>\n",
       "<table border=\"1\" class=\"dataframe\">\n",
       "  <thead>\n",
       "    <tr style=\"text-align: right;\">\n",
       "      <th></th>\n",
       "      <th>NEG probability</th>\n",
       "      <th>POS probability</th>\n",
       "    </tr>\n",
       "  </thead>\n",
       "  <tbody>\n",
       "    <tr>\n",
       "      <th>0</th>\n",
       "      <td>0.551098</td>\n",
       "      <td>0.448902</td>\n",
       "    </tr>\n",
       "    <tr>\n",
       "      <th>1</th>\n",
       "      <td>0.506482</td>\n",
       "      <td>0.493518</td>\n",
       "    </tr>\n",
       "    <tr>\n",
       "      <th>2</th>\n",
       "      <td>0.512977</td>\n",
       "      <td>0.487023</td>\n",
       "    </tr>\n",
       "    <tr>\n",
       "      <th>3</th>\n",
       "      <td>0.750775</td>\n",
       "      <td>0.249225</td>\n",
       "    </tr>\n",
       "    <tr>\n",
       "      <th>4</th>\n",
       "      <td>0.790636</td>\n",
       "      <td>0.209364</td>\n",
       "    </tr>\n",
       "    <tr>\n",
       "      <th>...</th>\n",
       "      <td>...</td>\n",
       "      <td>...</td>\n",
       "    </tr>\n",
       "    <tr>\n",
       "      <th>24995</th>\n",
       "      <td>0.342981</td>\n",
       "      <td>0.657019</td>\n",
       "    </tr>\n",
       "    <tr>\n",
       "      <th>24996</th>\n",
       "      <td>0.269783</td>\n",
       "      <td>0.730217</td>\n",
       "    </tr>\n",
       "    <tr>\n",
       "      <th>24997</th>\n",
       "      <td>0.218392</td>\n",
       "      <td>0.781608</td>\n",
       "    </tr>\n",
       "    <tr>\n",
       "      <th>24998</th>\n",
       "      <td>0.348441</td>\n",
       "      <td>0.651559</td>\n",
       "    </tr>\n",
       "    <tr>\n",
       "      <th>24999</th>\n",
       "      <td>0.198734</td>\n",
       "      <td>0.801266</td>\n",
       "    </tr>\n",
       "  </tbody>\n",
       "</table>\n",
       "<p>25000 rows × 2 columns</p>\n",
       "</div>"
      ],
      "text/plain": [
       "       NEG probability  POS probability\n",
       "0             0.551098         0.448902\n",
       "1             0.506482         0.493518\n",
       "2             0.512977         0.487023\n",
       "3             0.750775         0.249225\n",
       "4             0.790636         0.209364\n",
       "...                ...              ...\n",
       "24995         0.342981         0.657019\n",
       "24996         0.269783         0.730217\n",
       "24997         0.218392         0.781608\n",
       "24998         0.348441         0.651559\n",
       "24999         0.198734         0.801266\n",
       "\n",
       "[25000 rows x 2 columns]"
      ]
     },
     "execution_count": 16,
     "metadata": {},
     "output_type": "execute_result"
    }
   ],
   "source": [
    "df_proba"
   ]
  },
  {
   "cell_type": "code",
   "execution_count": 17,
   "metadata": {},
   "outputs": [],
   "source": [
    "neg = df_proba['NEG probability'].tolist()\n",
    "pos = df_proba['POS probability'].tolist()"
   ]
  },
  {
   "cell_type": "code",
   "execution_count": 18,
   "metadata": {},
   "outputs": [],
   "source": [
    "df_test['NEG probability'] = neg\n",
    "df_test['POS probability'] = pos"
   ]
  },
  {
   "cell_type": "code",
   "execution_count": 19,
   "metadata": {},
   "outputs": [
    {
     "data": {
      "text/html": [
       "<div>\n",
       "<style scoped>\n",
       "    .dataframe tbody tr th:only-of-type {\n",
       "        vertical-align: middle;\n",
       "    }\n",
       "\n",
       "    .dataframe tbody tr th {\n",
       "        vertical-align: top;\n",
       "    }\n",
       "\n",
       "    .dataframe thead th {\n",
       "        text-align: right;\n",
       "    }\n",
       "</style>\n",
       "<table border=\"1\" class=\"dataframe\">\n",
       "  <thead>\n",
       "    <tr style=\"text-align: right;\">\n",
       "      <th></th>\n",
       "      <th>text</th>\n",
       "      <th>target</th>\n",
       "      <th>NEG probability</th>\n",
       "      <th>POS probability</th>\n",
       "    </tr>\n",
       "  </thead>\n",
       "  <tbody>\n",
       "    <tr>\n",
       "      <th>0</th>\n",
       "      <td>Alan Rickman &amp; Emma Thompson give good perform...</td>\n",
       "      <td>NEG</td>\n",
       "      <td>0.551098</td>\n",
       "      <td>0.448902</td>\n",
       "    </tr>\n",
       "    <tr>\n",
       "      <th>0</th>\n",
       "      <td>I have seen this movie and I did not care for ...</td>\n",
       "      <td>NEG</td>\n",
       "      <td>0.506482</td>\n",
       "      <td>0.493518</td>\n",
       "    </tr>\n",
       "    <tr>\n",
       "      <th>0</th>\n",
       "      <td>In Los Angeles, the alcoholic and lazy Hank Ch...</td>\n",
       "      <td>NEG</td>\n",
       "      <td>0.512977</td>\n",
       "      <td>0.487023</td>\n",
       "    </tr>\n",
       "    <tr>\n",
       "      <th>0</th>\n",
       "      <td>This film is bundled along with \"Gli fumavano ...</td>\n",
       "      <td>NEG</td>\n",
       "      <td>0.750775</td>\n",
       "      <td>0.249225</td>\n",
       "    </tr>\n",
       "    <tr>\n",
       "      <th>0</th>\n",
       "      <td>I only comment on really very good films and o...</td>\n",
       "      <td>NEG</td>\n",
       "      <td>0.790636</td>\n",
       "      <td>0.209364</td>\n",
       "    </tr>\n",
       "    <tr>\n",
       "      <th>...</th>\n",
       "      <td>...</td>\n",
       "      <td>...</td>\n",
       "      <td>...</td>\n",
       "      <td>...</td>\n",
       "    </tr>\n",
       "    <tr>\n",
       "      <th>0</th>\n",
       "      <td>This movie is certainly well-constructed, begi...</td>\n",
       "      <td>POS</td>\n",
       "      <td>0.342981</td>\n",
       "      <td>0.657019</td>\n",
       "    </tr>\n",
       "    <tr>\n",
       "      <th>0</th>\n",
       "      <td>Nice to see a comedy for grown ups. Masterfull...</td>\n",
       "      <td>POS</td>\n",
       "      <td>0.269783</td>\n",
       "      <td>0.730217</td>\n",
       "    </tr>\n",
       "    <tr>\n",
       "      <th>0</th>\n",
       "      <td>Jean Renoir's homage to the Paris of the late ...</td>\n",
       "      <td>POS</td>\n",
       "      <td>0.218392</td>\n",
       "      <td>0.781608</td>\n",
       "    </tr>\n",
       "    <tr>\n",
       "      <th>0</th>\n",
       "      <td>What are the movies? I mean.. what are movies ...</td>\n",
       "      <td>POS</td>\n",
       "      <td>0.348441</td>\n",
       "      <td>0.651559</td>\n",
       "    </tr>\n",
       "    <tr>\n",
       "      <th>0</th>\n",
       "      <td>I saw this movie on TV and loved it! I am a re...</td>\n",
       "      <td>POS</td>\n",
       "      <td>0.198734</td>\n",
       "      <td>0.801266</td>\n",
       "    </tr>\n",
       "  </tbody>\n",
       "</table>\n",
       "<p>25000 rows × 4 columns</p>\n",
       "</div>"
      ],
      "text/plain": [
       "                                                 text target  NEG probability  \\\n",
       "0   Alan Rickman & Emma Thompson give good perform...    NEG         0.551098   \n",
       "0   I have seen this movie and I did not care for ...    NEG         0.506482   \n",
       "0   In Los Angeles, the alcoholic and lazy Hank Ch...    NEG         0.512977   \n",
       "0   This film is bundled along with \"Gli fumavano ...    NEG         0.750775   \n",
       "0   I only comment on really very good films and o...    NEG         0.790636   \n",
       "..                                                ...    ...              ...   \n",
       "0   This movie is certainly well-constructed, begi...    POS         0.342981   \n",
       "0   Nice to see a comedy for grown ups. Masterfull...    POS         0.269783   \n",
       "0   Jean Renoir's homage to the Paris of the late ...    POS         0.218392   \n",
       "0   What are the movies? I mean.. what are movies ...    POS         0.348441   \n",
       "0   I saw this movie on TV and loved it! I am a re...    POS         0.198734   \n",
       "\n",
       "    POS probability  \n",
       "0          0.448902  \n",
       "0          0.493518  \n",
       "0          0.487023  \n",
       "0          0.249225  \n",
       "0          0.209364  \n",
       "..              ...  \n",
       "0          0.657019  \n",
       "0          0.730217  \n",
       "0          0.781608  \n",
       "0          0.651559  \n",
       "0          0.801266  \n",
       "\n",
       "[25000 rows x 4 columns]"
      ]
     },
     "execution_count": 19,
     "metadata": {},
     "output_type": "execute_result"
    }
   ],
   "source": [
    "df_test"
   ]
  },
  {
   "cell_type": "code",
   "execution_count": 20,
   "metadata": {},
   "outputs": [
    {
     "data": {
      "text/html": [
       "<div>\n",
       "<style scoped>\n",
       "    .dataframe tbody tr th:only-of-type {\n",
       "        vertical-align: middle;\n",
       "    }\n",
       "\n",
       "    .dataframe tbody tr th {\n",
       "        vertical-align: top;\n",
       "    }\n",
       "\n",
       "    .dataframe thead th {\n",
       "        text-align: right;\n",
       "    }\n",
       "</style>\n",
       "<table border=\"1\" class=\"dataframe\">\n",
       "  <thead>\n",
       "    <tr style=\"text-align: right;\">\n",
       "      <th></th>\n",
       "      <th>text</th>\n",
       "      <th>target</th>\n",
       "      <th>NEG probability</th>\n",
       "      <th>POS probability</th>\n",
       "    </tr>\n",
       "  </thead>\n",
       "  <tbody>\n",
       "    <tr>\n",
       "      <th>0</th>\n",
       "      <td>I rented this movie today... worst movie EVER....</td>\n",
       "      <td>NEG</td>\n",
       "      <td>0.982302</td>\n",
       "      <td>0.017698</td>\n",
       "    </tr>\n",
       "    <tr>\n",
       "      <th>0</th>\n",
       "      <td>...the first? Killjoy 1. But here's the review...</td>\n",
       "      <td>NEG</td>\n",
       "      <td>0.981917</td>\n",
       "      <td>0.018083</td>\n",
       "    </tr>\n",
       "    <tr>\n",
       "      <th>0</th>\n",
       "      <td>Definitely the worst movie I have ever seen in...</td>\n",
       "      <td>NEG</td>\n",
       "      <td>0.978170</td>\n",
       "      <td>0.021830</td>\n",
       "    </tr>\n",
       "    <tr>\n",
       "      <th>0</th>\n",
       "      <td>Do not waste your money or time. Terrible movi...</td>\n",
       "      <td>NEG</td>\n",
       "      <td>0.978071</td>\n",
       "      <td>0.021929</td>\n",
       "    </tr>\n",
       "    <tr>\n",
       "      <th>0</th>\n",
       "      <td>This movie was on the pay channels today and I...</td>\n",
       "      <td>NEG</td>\n",
       "      <td>0.977761</td>\n",
       "      <td>0.022239</td>\n",
       "    </tr>\n",
       "    <tr>\n",
       "      <th>0</th>\n",
       "      <td>MAY CONTAIN SPOILERS. This movie was the worst...</td>\n",
       "      <td>NEG</td>\n",
       "      <td>0.977043</td>\n",
       "      <td>0.022957</td>\n",
       "    </tr>\n",
       "    <tr>\n",
       "      <th>0</th>\n",
       "      <td>OK, I would give this a 1, but I'm gonna give ...</td>\n",
       "      <td>NEG</td>\n",
       "      <td>0.976147</td>\n",
       "      <td>0.023853</td>\n",
       "    </tr>\n",
       "    <tr>\n",
       "      <th>0</th>\n",
       "      <td>This movie was a complete waste of time. The s...</td>\n",
       "      <td>NEG</td>\n",
       "      <td>0.974242</td>\n",
       "      <td>0.025758</td>\n",
       "    </tr>\n",
       "    <tr>\n",
       "      <th>0</th>\n",
       "      <td>This was a very disappointing movie. I would d...</td>\n",
       "      <td>NEG</td>\n",
       "      <td>0.970150</td>\n",
       "      <td>0.029850</td>\n",
       "    </tr>\n",
       "    <tr>\n",
       "      <th>0</th>\n",
       "      <td>I couldn't spoil this piece of crap if I wante...</td>\n",
       "      <td>NEG</td>\n",
       "      <td>0.969639</td>\n",
       "      <td>0.030361</td>\n",
       "    </tr>\n",
       "    <tr>\n",
       "      <th>0</th>\n",
       "      <td>Watching this movie really surprised me. I hav...</td>\n",
       "      <td>NEG</td>\n",
       "      <td>0.966704</td>\n",
       "      <td>0.033296</td>\n",
       "    </tr>\n",
       "    <tr>\n",
       "      <th>0</th>\n",
       "      <td>I've seen a lot of bad movies in my life. Date...</td>\n",
       "      <td>NEG</td>\n",
       "      <td>0.966156</td>\n",
       "      <td>0.033844</td>\n",
       "    </tr>\n",
       "    <tr>\n",
       "      <th>0</th>\n",
       "      <td>National Lampoon's Dorm Daze is easily the wor...</td>\n",
       "      <td>NEG</td>\n",
       "      <td>0.965519</td>\n",
       "      <td>0.034481</td>\n",
       "    </tr>\n",
       "    <tr>\n",
       "      <th>0</th>\n",
       "      <td>There are movies that are so bad, they're good...</td>\n",
       "      <td>NEG</td>\n",
       "      <td>0.964890</td>\n",
       "      <td>0.035110</td>\n",
       "    </tr>\n",
       "    <tr>\n",
       "      <th>0</th>\n",
       "      <td>This movie is so bad that it actually gets fun...</td>\n",
       "      <td>NEG</td>\n",
       "      <td>0.963980</td>\n",
       "      <td>0.036020</td>\n",
       "    </tr>\n",
       "  </tbody>\n",
       "</table>\n",
       "</div>"
      ],
      "text/plain": [
       "                                                text target  NEG probability  \\\n",
       "0  I rented this movie today... worst movie EVER....    NEG         0.982302   \n",
       "0  ...the first? Killjoy 1. But here's the review...    NEG         0.981917   \n",
       "0  Definitely the worst movie I have ever seen in...    NEG         0.978170   \n",
       "0  Do not waste your money or time. Terrible movi...    NEG         0.978071   \n",
       "0  This movie was on the pay channels today and I...    NEG         0.977761   \n",
       "0  MAY CONTAIN SPOILERS. This movie was the worst...    NEG         0.977043   \n",
       "0  OK, I would give this a 1, but I'm gonna give ...    NEG         0.976147   \n",
       "0  This movie was a complete waste of time. The s...    NEG         0.974242   \n",
       "0  This was a very disappointing movie. I would d...    NEG         0.970150   \n",
       "0  I couldn't spoil this piece of crap if I wante...    NEG         0.969639   \n",
       "0  Watching this movie really surprised me. I hav...    NEG         0.966704   \n",
       "0  I've seen a lot of bad movies in my life. Date...    NEG         0.966156   \n",
       "0  National Lampoon's Dorm Daze is easily the wor...    NEG         0.965519   \n",
       "0  There are movies that are so bad, they're good...    NEG         0.964890   \n",
       "0  This movie is so bad that it actually gets fun...    NEG         0.963980   \n",
       "\n",
       "   POS probability  \n",
       "0         0.017698  \n",
       "0         0.018083  \n",
       "0         0.021830  \n",
       "0         0.021929  \n",
       "0         0.022239  \n",
       "0         0.022957  \n",
       "0         0.023853  \n",
       "0         0.025758  \n",
       "0         0.029850  \n",
       "0         0.030361  \n",
       "0         0.033296  \n",
       "0         0.033844  \n",
       "0         0.034481  \n",
       "0         0.035110  \n",
       "0         0.036020  "
      ]
     },
     "execution_count": 20,
     "metadata": {},
     "output_type": "execute_result"
    }
   ],
   "source": [
    "most_negative = df_test.sort_values(by=['NEG probability'], ascending=False)\n",
    "most_negative.head(15)"
   ]
  },
  {
   "cell_type": "code",
   "execution_count": 21,
   "metadata": {},
   "outputs": [
    {
     "data": {
      "text/html": [
       "<div>\n",
       "<style scoped>\n",
       "    .dataframe tbody tr th:only-of-type {\n",
       "        vertical-align: middle;\n",
       "    }\n",
       "\n",
       "    .dataframe tbody tr th {\n",
       "        vertical-align: top;\n",
       "    }\n",
       "\n",
       "    .dataframe thead th {\n",
       "        text-align: right;\n",
       "    }\n",
       "</style>\n",
       "<table border=\"1\" class=\"dataframe\">\n",
       "  <thead>\n",
       "    <tr style=\"text-align: right;\">\n",
       "      <th></th>\n",
       "      <th>text</th>\n",
       "      <th>target</th>\n",
       "      <th>NEG probability</th>\n",
       "      <th>POS probability</th>\n",
       "    </tr>\n",
       "  </thead>\n",
       "  <tbody>\n",
       "    <tr>\n",
       "      <th>0</th>\n",
       "      <td>This movie is one of my all-time favorites. I ...</td>\n",
       "      <td>POS</td>\n",
       "      <td>0.037043</td>\n",
       "      <td>0.962957</td>\n",
       "    </tr>\n",
       "    <tr>\n",
       "      <th>0</th>\n",
       "      <td>Went to the premiere at the Tribeca Film Festi...</td>\n",
       "      <td>POS</td>\n",
       "      <td>0.037774</td>\n",
       "      <td>0.962226</td>\n",
       "    </tr>\n",
       "    <tr>\n",
       "      <th>0</th>\n",
       "      <td>This is one of Bruce's most underrated films i...</td>\n",
       "      <td>POS</td>\n",
       "      <td>0.038139</td>\n",
       "      <td>0.961861</td>\n",
       "    </tr>\n",
       "    <tr>\n",
       "      <th>0</th>\n",
       "      <td>One of the best western movies ever made. Unfo...</td>\n",
       "      <td>POS</td>\n",
       "      <td>0.044081</td>\n",
       "      <td>0.955919</td>\n",
       "    </tr>\n",
       "    <tr>\n",
       "      <th>0</th>\n",
       "      <td>*May Contain Spoilers*&lt;br /&gt;&lt;br /&gt;The first ti...</td>\n",
       "      <td>POS</td>\n",
       "      <td>0.053134</td>\n",
       "      <td>0.946866</td>\n",
       "    </tr>\n",
       "    <tr>\n",
       "      <th>0</th>\n",
       "      <td>ý thýnk uzak ýs the one of the best films of a...</td>\n",
       "      <td>POS</td>\n",
       "      <td>0.053325</td>\n",
       "      <td>0.946675</td>\n",
       "    </tr>\n",
       "    <tr>\n",
       "      <th>0</th>\n",
       "      <td>\"Quai des Orfevres\", directed by the brilliant...</td>\n",
       "      <td>POS</td>\n",
       "      <td>0.054042</td>\n",
       "      <td>0.945958</td>\n",
       "    </tr>\n",
       "    <tr>\n",
       "      <th>0</th>\n",
       "      <td>Wow! Fantastic film in my opinion, i wasn't ex...</td>\n",
       "      <td>POS</td>\n",
       "      <td>0.054586</td>\n",
       "      <td>0.945414</td>\n",
       "    </tr>\n",
       "    <tr>\n",
       "      <th>0</th>\n",
       "      <td>I really love action/adventure films and this ...</td>\n",
       "      <td>POS</td>\n",
       "      <td>0.057002</td>\n",
       "      <td>0.942998</td>\n",
       "    </tr>\n",
       "    <tr>\n",
       "      <th>0</th>\n",
       "      <td>This is one of Michael Jackson's best music vi...</td>\n",
       "      <td>POS</td>\n",
       "      <td>0.057572</td>\n",
       "      <td>0.942428</td>\n",
       "    </tr>\n",
       "    <tr>\n",
       "      <th>0</th>\n",
       "      <td>I think that COMPLETE SAVAGES is a very good T...</td>\n",
       "      <td>POS</td>\n",
       "      <td>0.058339</td>\n",
       "      <td>0.941661</td>\n",
       "    </tr>\n",
       "    <tr>\n",
       "      <th>0</th>\n",
       "      <td>I almost stopped watching Hindi movies because...</td>\n",
       "      <td>POS</td>\n",
       "      <td>0.059057</td>\n",
       "      <td>0.940943</td>\n",
       "    </tr>\n",
       "    <tr>\n",
       "      <th>0</th>\n",
       "      <td>I really enjoyed North and South very much. I ...</td>\n",
       "      <td>POS</td>\n",
       "      <td>0.061093</td>\n",
       "      <td>0.938907</td>\n",
       "    </tr>\n",
       "    <tr>\n",
       "      <th>0</th>\n",
       "      <td>This is a forgotten classic of a film, and Har...</td>\n",
       "      <td>POS</td>\n",
       "      <td>0.061882</td>\n",
       "      <td>0.938118</td>\n",
       "    </tr>\n",
       "    <tr>\n",
       "      <th>0</th>\n",
       "      <td>The last film of John Huston, the great Americ...</td>\n",
       "      <td>POS</td>\n",
       "      <td>0.062583</td>\n",
       "      <td>0.937417</td>\n",
       "    </tr>\n",
       "  </tbody>\n",
       "</table>\n",
       "</div>"
      ],
      "text/plain": [
       "                                                text target  NEG probability  \\\n",
       "0  This movie is one of my all-time favorites. I ...    POS         0.037043   \n",
       "0  Went to the premiere at the Tribeca Film Festi...    POS         0.037774   \n",
       "0  This is one of Bruce's most underrated films i...    POS         0.038139   \n",
       "0  One of the best western movies ever made. Unfo...    POS         0.044081   \n",
       "0  *May Contain Spoilers*<br /><br />The first ti...    POS         0.053134   \n",
       "0  ý thýnk uzak ýs the one of the best films of a...    POS         0.053325   \n",
       "0  \"Quai des Orfevres\", directed by the brilliant...    POS         0.054042   \n",
       "0  Wow! Fantastic film in my opinion, i wasn't ex...    POS         0.054586   \n",
       "0  I really love action/adventure films and this ...    POS         0.057002   \n",
       "0  This is one of Michael Jackson's best music vi...    POS         0.057572   \n",
       "0  I think that COMPLETE SAVAGES is a very good T...    POS         0.058339   \n",
       "0  I almost stopped watching Hindi movies because...    POS         0.059057   \n",
       "0  I really enjoyed North and South very much. I ...    POS         0.061093   \n",
       "0  This is a forgotten classic of a film, and Har...    POS         0.061882   \n",
       "0  The last film of John Huston, the great Americ...    POS         0.062583   \n",
       "\n",
       "   POS probability  \n",
       "0         0.962957  \n",
       "0         0.962226  \n",
       "0         0.961861  \n",
       "0         0.955919  \n",
       "0         0.946866  \n",
       "0         0.946675  \n",
       "0         0.945958  \n",
       "0         0.945414  \n",
       "0         0.942998  \n",
       "0         0.942428  \n",
       "0         0.941661  \n",
       "0         0.940943  \n",
       "0         0.938907  \n",
       "0         0.938118  \n",
       "0         0.937417  "
      ]
     },
     "execution_count": 21,
     "metadata": {},
     "output_type": "execute_result"
    }
   ],
   "source": [
    "most_positive = df_test.sort_values(by=['POS probability'], ascending=False)\n",
    "most_positive.head(15)"
   ]
  },
  {
   "cell_type": "code",
   "execution_count": null,
   "metadata": {},
   "outputs": [],
   "source": [
    "организую данные чтобы удобно посчитать метрики"
   ]
  },
  {
   "cell_type": "code",
   "execution_count": 22,
   "metadata": {},
   "outputs": [],
   "source": [
    "gold = df_test['target'].tolist()\n",
    "stats_df = pd.DataFrame()\n",
    "stats_df['classification output'] = predicted\n",
    "stats_df['gold standard'] = gold"
   ]
  },
  {
   "cell_type": "code",
   "execution_count": 23,
   "metadata": {},
   "outputs": [
    {
     "data": {
      "text/html": [
       "<div>\n",
       "<style scoped>\n",
       "    .dataframe tbody tr th:only-of-type {\n",
       "        vertical-align: middle;\n",
       "    }\n",
       "\n",
       "    .dataframe tbody tr th {\n",
       "        vertical-align: top;\n",
       "    }\n",
       "\n",
       "    .dataframe thead th {\n",
       "        text-align: right;\n",
       "    }\n",
       "</style>\n",
       "<table border=\"1\" class=\"dataframe\">\n",
       "  <thead>\n",
       "    <tr style=\"text-align: right;\">\n",
       "      <th></th>\n",
       "      <th>classification output</th>\n",
       "      <th>gold standard</th>\n",
       "    </tr>\n",
       "  </thead>\n",
       "  <tbody>\n",
       "    <tr>\n",
       "      <th>0</th>\n",
       "      <td>NEG</td>\n",
       "      <td>NEG</td>\n",
       "    </tr>\n",
       "    <tr>\n",
       "      <th>1</th>\n",
       "      <td>NEG</td>\n",
       "      <td>NEG</td>\n",
       "    </tr>\n",
       "    <tr>\n",
       "      <th>2</th>\n",
       "      <td>NEG</td>\n",
       "      <td>NEG</td>\n",
       "    </tr>\n",
       "    <tr>\n",
       "      <th>3</th>\n",
       "      <td>NEG</td>\n",
       "      <td>NEG</td>\n",
       "    </tr>\n",
       "    <tr>\n",
       "      <th>4</th>\n",
       "      <td>NEG</td>\n",
       "      <td>NEG</td>\n",
       "    </tr>\n",
       "    <tr>\n",
       "      <th>...</th>\n",
       "      <td>...</td>\n",
       "      <td>...</td>\n",
       "    </tr>\n",
       "    <tr>\n",
       "      <th>24995</th>\n",
       "      <td>POS</td>\n",
       "      <td>POS</td>\n",
       "    </tr>\n",
       "    <tr>\n",
       "      <th>24996</th>\n",
       "      <td>POS</td>\n",
       "      <td>POS</td>\n",
       "    </tr>\n",
       "    <tr>\n",
       "      <th>24997</th>\n",
       "      <td>POS</td>\n",
       "      <td>POS</td>\n",
       "    </tr>\n",
       "    <tr>\n",
       "      <th>24998</th>\n",
       "      <td>POS</td>\n",
       "      <td>POS</td>\n",
       "    </tr>\n",
       "    <tr>\n",
       "      <th>24999</th>\n",
       "      <td>POS</td>\n",
       "      <td>POS</td>\n",
       "    </tr>\n",
       "  </tbody>\n",
       "</table>\n",
       "<p>25000 rows × 2 columns</p>\n",
       "</div>"
      ],
      "text/plain": [
       "      classification output gold standard\n",
       "0                       NEG           NEG\n",
       "1                       NEG           NEG\n",
       "2                       NEG           NEG\n",
       "3                       NEG           NEG\n",
       "4                       NEG           NEG\n",
       "...                     ...           ...\n",
       "24995                   POS           POS\n",
       "24996                   POS           POS\n",
       "24997                   POS           POS\n",
       "24998                   POS           POS\n",
       "24999                   POS           POS\n",
       "\n",
       "[25000 rows x 2 columns]"
      ]
     },
     "execution_count": 23,
     "metadata": {},
     "output_type": "execute_result"
    }
   ],
   "source": [
    "stats_df"
   ]
  },
  {
   "cell_type": "code",
   "execution_count": 24,
   "metadata": {},
   "outputs": [],
   "source": [
    "tp = stats_df[(stats_df['classification output'] == 'POS') & (stats_df['gold standard'] == 'POS')].shape[0]\n",
    "tn = stats_df[(stats_df['classification output'] == 'NEG') & (stats_df['gold standard'] == 'NEG')].shape[0]\n",
    "fp = stats_df[(stats_df['classification output'] == 'POS') & (stats_df['gold standard'] == 'NEG')].shape[0]\n",
    "fn = stats_df[(stats_df['classification output'] == 'NEG') & (stats_df['gold standard'] == 'POS')].shape[0]"
   ]
  },
  {
   "cell_type": "code",
   "execution_count": 25,
   "metadata": {},
   "outputs": [
    {
     "data": {
      "text/plain": [
       "25000"
      ]
     },
     "execution_count": 25,
     "metadata": {},
     "output_type": "execute_result"
    }
   ],
   "source": [
    "tp + tn + fp + fn"
   ]
  },
  {
   "cell_type": "code",
   "execution_count": 26,
   "metadata": {},
   "outputs": [],
   "source": [
    "def stats(tp, tn, fp, fn):\n",
    "    precision = tp/(tp + fp)\n",
    "    recall = tp/(tp + fn)\n",
    "    f2 = 2*(precision * recall)/(precision + recall)\n",
    "    accuracy = (tp + tn)/(tp + tn + fp + fn)\n",
    "    return precision, recall, f2, accuracy"
   ]
  },
  {
   "cell_type": "code",
   "execution_count": 27,
   "metadata": {},
   "outputs": [],
   "source": [
    "def precision(tp, fp):\n",
    "    precision = tp/(tp + fp)\n",
    "    return precision"
   ]
  },
  {
   "cell_type": "code",
   "execution_count": 28,
   "metadata": {},
   "outputs": [],
   "source": [
    "def recall(tp, fn):\n",
    "    recall = tp/(tp + fn)\n",
    "    return recall"
   ]
  },
  {
   "cell_type": "code",
   "execution_count": 29,
   "metadata": {},
   "outputs": [],
   "source": [
    "def f2(tp, fp, fn):\n",
    "    f2 = 2*(tp/(tp + fp) * tp/(tp + fn))/(tp/(tp + fp) + tp/(tp + fn))\n",
    "    return f2"
   ]
  },
  {
   "cell_type": "code",
   "execution_count": 30,
   "metadata": {},
   "outputs": [],
   "source": [
    "def accuracy(tp, tn, fp, fn):\n",
    "    accuracy = (tp + tn)/(tp + tn + fp + fn)\n",
    "    return accuracy"
   ]
  },
  {
   "cell_type": "code",
   "execution_count": 31,
   "metadata": {},
   "outputs": [],
   "source": [
    "pr = precision(tp, fp)\n",
    "re = recall(tp, fn)\n",
    "f2 = f2(tp, fp, fn)\n",
    "ac = accuracy(tp, tn, fp, fn)"
   ]
  },
  {
   "cell_type": "code",
   "execution_count": 32,
   "metadata": {},
   "outputs": [
    {
     "data": {
      "text/plain": [
       "0.8589682915286323"
      ]
     },
     "execution_count": 32,
     "metadata": {},
     "output_type": "execute_result"
    }
   ],
   "source": [
    "pr"
   ]
  },
  {
   "cell_type": "code",
   "execution_count": 33,
   "metadata": {},
   "outputs": [
    {
     "data": {
      "text/plain": [
       "0.8712"
      ]
     },
     "execution_count": 33,
     "metadata": {},
     "output_type": "execute_result"
    }
   ],
   "source": [
    "re"
   ]
  },
  {
   "cell_type": "code",
   "execution_count": 34,
   "metadata": {},
   "outputs": [
    {
     "data": {
      "text/plain": [
       "0.8650409087298435"
      ]
     },
     "execution_count": 34,
     "metadata": {},
     "output_type": "execute_result"
    }
   ],
   "source": [
    "f2"
   ]
  },
  {
   "cell_type": "code",
   "execution_count": 35,
   "metadata": {},
   "outputs": [
    {
     "data": {
      "text/plain": [
       "0.86408"
      ]
     },
     "execution_count": 35,
     "metadata": {},
     "output_type": "execute_result"
    }
   ],
   "source": [
    "ac"
   ]
  },
  {
   "cell_type": "code",
   "execution_count": null,
   "metadata": {},
   "outputs": [],
   "source": []
  },
  {
   "cell_type": "code",
   "execution_count": 36,
   "metadata": {},
   "outputs": [],
   "source": [
    "precision, recall, f2, accuracy = stats(tp, tn, fp, fn)"
   ]
  },
  {
   "cell_type": "code",
   "execution_count": 37,
   "metadata": {},
   "outputs": [
    {
     "data": {
      "text/plain": [
       "0.8589682915286323"
      ]
     },
     "execution_count": 37,
     "metadata": {},
     "output_type": "execute_result"
    }
   ],
   "source": [
    "precision"
   ]
  },
  {
   "cell_type": "code",
   "execution_count": 38,
   "metadata": {},
   "outputs": [
    {
     "data": {
      "text/plain": [
       "0.8712"
      ]
     },
     "execution_count": 38,
     "metadata": {},
     "output_type": "execute_result"
    }
   ],
   "source": [
    "recall"
   ]
  },
  {
   "cell_type": "code",
   "execution_count": 39,
   "metadata": {},
   "outputs": [
    {
     "data": {
      "text/plain": [
       "0.8650409087298435"
      ]
     },
     "execution_count": 39,
     "metadata": {},
     "output_type": "execute_result"
    }
   ],
   "source": [
    "f2"
   ]
  },
  {
   "cell_type": "code",
   "execution_count": 40,
   "metadata": {},
   "outputs": [
    {
     "data": {
      "text/plain": [
       "0.86408"
      ]
     },
     "execution_count": 40,
     "metadata": {},
     "output_type": "execute_result"
    }
   ],
   "source": [
    "accuracy"
   ]
  },
  {
   "cell_type": "markdown",
   "metadata": {},
   "source": [
    "# Я не понимаю, почему числа отличаются, ведь они должны быть одинкавыми - написала два способа вычисления для f2 и ничего не изменилось. Не понимаю:("
   ]
  },
  {
   "cell_type": "code",
   "execution_count": null,
   "metadata": {},
   "outputs": [],
   "source": []
  }
 ],
 "metadata": {
  "kernelspec": {
   "display_name": "Python 3",
   "language": "python",
   "name": "python3"
  },
  "language_info": {
   "codemirror_mode": {
    "name": "ipython",
    "version": 3
   },
   "file_extension": ".py",
   "mimetype": "text/x-python",
   "name": "python",
   "nbconvert_exporter": "python",
   "pygments_lexer": "ipython3",
   "version": "3.6.10"
  }
 },
 "nbformat": 4,
 "nbformat_minor": 2
}
